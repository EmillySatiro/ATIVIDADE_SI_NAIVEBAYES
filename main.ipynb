{
 "cells": [
  {
   "cell_type": "code",
   "execution_count": 2,
   "id": "2a568f2a",
   "metadata": {},
   "outputs": [
    {
     "name": "stdout",
     "output_type": "stream",
     "text": [
      "Requirement already satisfied: numpy in c:\\users\\jonascgn\\documents\\programa_curso\\sistemas_inteligentes\\atividade_si_naivebayes\\.venv\\lib\\site-packages (2.3.4)\n",
      "Requirement already satisfied: pandas in c:\\users\\jonascgn\\documents\\programa_curso\\sistemas_inteligentes\\atividade_si_naivebayes\\.venv\\lib\\site-packages (2.3.3)\n",
      "Requirement already satisfied: scikit-learn in c:\\users\\jonascgn\\documents\\programa_curso\\sistemas_inteligentes\\atividade_si_naivebayes\\.venv\\lib\\site-packages (1.7.2)\n",
      "Requirement already satisfied: python-dateutil>=2.8.2 in c:\\users\\jonascgn\\documents\\programa_curso\\sistemas_inteligentes\\atividade_si_naivebayes\\.venv\\lib\\site-packages (from pandas) (2.9.0.post0)\n",
      "Requirement already satisfied: pytz>=2020.1 in c:\\users\\jonascgn\\documents\\programa_curso\\sistemas_inteligentes\\atividade_si_naivebayes\\.venv\\lib\\site-packages (from pandas) (2025.2)\n",
      "Requirement already satisfied: tzdata>=2022.7 in c:\\users\\jonascgn\\documents\\programa_curso\\sistemas_inteligentes\\atividade_si_naivebayes\\.venv\\lib\\site-packages (from pandas) (2025.2)\n",
      "Requirement already satisfied: scipy>=1.8.0 in c:\\users\\jonascgn\\documents\\programa_curso\\sistemas_inteligentes\\atividade_si_naivebayes\\.venv\\lib\\site-packages (from scikit-learn) (1.16.2)\n",
      "Requirement already satisfied: joblib>=1.2.0 in c:\\users\\jonascgn\\documents\\programa_curso\\sistemas_inteligentes\\atividade_si_naivebayes\\.venv\\lib\\site-packages (from scikit-learn) (1.5.2)\n",
      "Requirement already satisfied: threadpoolctl>=3.1.0 in c:\\users\\jonascgn\\documents\\programa_curso\\sistemas_inteligentes\\atividade_si_naivebayes\\.venv\\lib\\site-packages (from scikit-learn) (3.6.0)\n",
      "Requirement already satisfied: six>=1.5 in c:\\users\\jonascgn\\documents\\programa_curso\\sistemas_inteligentes\\atividade_si_naivebayes\\.venv\\lib\\site-packages (from python-dateutil>=2.8.2->pandas) (1.17.0)\n",
      "Note: you may need to restart the kernel to use updated packages.\n"
     ]
    }
   ],
   "source": [
    "%pip install numpy pandas scikit-learn"
   ]
  },
  {
   "cell_type": "code",
   "execution_count": 3,
   "id": "1c04c625",
   "metadata": {},
   "outputs": [],
   "source": [
    "from sklearn.datasets import load_iris, fetch_openml\n",
    "from sklearn.model_selection import train_test_split\n",
    "from sklearn.metrics import accuracy_score, confusion_matrix\n",
    "import numpy as np\n",
    "import pandas as pd"
   ]
  },
  {
   "cell_type": "code",
   "execution_count": null,
   "id": "d531362b",
   "metadata": {},
   "outputs": [],
   "source": [
    "X,y = fetch_openml(name='adult', version=2, as_frame=True, return_X_y=True)"
   ]
  },
  {
   "cell_type": "code",
   "execution_count": null,
   "id": "c37e9015",
   "metadata": {},
   "outputs": [
    {
     "data": {
      "text/html": [
       "<div>\n",
       "<style scoped>\n",
       "    .dataframe tbody tr th:only-of-type {\n",
       "        vertical-align: middle;\n",
       "    }\n",
       "\n",
       "    .dataframe tbody tr th {\n",
       "        vertical-align: top;\n",
       "    }\n",
       "\n",
       "    .dataframe thead th {\n",
       "        text-align: right;\n",
       "    }\n",
       "</style>\n",
       "<table border=\"1\" class=\"dataframe\">\n",
       "  <thead>\n",
       "    <tr style=\"text-align: right;\">\n",
       "      <th></th>\n",
       "      <th>age</th>\n",
       "      <th>workclass</th>\n",
       "      <th>fnlwgt</th>\n",
       "      <th>education</th>\n",
       "      <th>education-num</th>\n",
       "      <th>marital-status</th>\n",
       "      <th>occupation</th>\n",
       "      <th>relationship</th>\n",
       "      <th>race</th>\n",
       "      <th>sex</th>\n",
       "      <th>capital-gain</th>\n",
       "      <th>capital-loss</th>\n",
       "      <th>hours-per-week</th>\n",
       "      <th>native-country</th>\n",
       "    </tr>\n",
       "  </thead>\n",
       "  <tbody>\n",
       "    <tr>\n",
       "      <th>0</th>\n",
       "      <td>25</td>\n",
       "      <td>Private</td>\n",
       "      <td>226802</td>\n",
       "      <td>11th</td>\n",
       "      <td>7</td>\n",
       "      <td>Never-married</td>\n",
       "      <td>Machine-op-inspct</td>\n",
       "      <td>Own-child</td>\n",
       "      <td>Black</td>\n",
       "      <td>Male</td>\n",
       "      <td>0</td>\n",
       "      <td>0</td>\n",
       "      <td>40</td>\n",
       "      <td>United-States</td>\n",
       "    </tr>\n",
       "    <tr>\n",
       "      <th>1</th>\n",
       "      <td>38</td>\n",
       "      <td>Private</td>\n",
       "      <td>89814</td>\n",
       "      <td>HS-grad</td>\n",
       "      <td>9</td>\n",
       "      <td>Married-civ-spouse</td>\n",
       "      <td>Farming-fishing</td>\n",
       "      <td>Husband</td>\n",
       "      <td>White</td>\n",
       "      <td>Male</td>\n",
       "      <td>0</td>\n",
       "      <td>0</td>\n",
       "      <td>50</td>\n",
       "      <td>United-States</td>\n",
       "    </tr>\n",
       "    <tr>\n",
       "      <th>2</th>\n",
       "      <td>28</td>\n",
       "      <td>Local-gov</td>\n",
       "      <td>336951</td>\n",
       "      <td>Assoc-acdm</td>\n",
       "      <td>12</td>\n",
       "      <td>Married-civ-spouse</td>\n",
       "      <td>Protective-serv</td>\n",
       "      <td>Husband</td>\n",
       "      <td>White</td>\n",
       "      <td>Male</td>\n",
       "      <td>0</td>\n",
       "      <td>0</td>\n",
       "      <td>40</td>\n",
       "      <td>United-States</td>\n",
       "    </tr>\n",
       "    <tr>\n",
       "      <th>3</th>\n",
       "      <td>44</td>\n",
       "      <td>Private</td>\n",
       "      <td>160323</td>\n",
       "      <td>Some-college</td>\n",
       "      <td>10</td>\n",
       "      <td>Married-civ-spouse</td>\n",
       "      <td>Machine-op-inspct</td>\n",
       "      <td>Husband</td>\n",
       "      <td>Black</td>\n",
       "      <td>Male</td>\n",
       "      <td>7688</td>\n",
       "      <td>0</td>\n",
       "      <td>40</td>\n",
       "      <td>United-States</td>\n",
       "    </tr>\n",
       "    <tr>\n",
       "      <th>4</th>\n",
       "      <td>18</td>\n",
       "      <td>NaN</td>\n",
       "      <td>103497</td>\n",
       "      <td>Some-college</td>\n",
       "      <td>10</td>\n",
       "      <td>Never-married</td>\n",
       "      <td>NaN</td>\n",
       "      <td>Own-child</td>\n",
       "      <td>White</td>\n",
       "      <td>Female</td>\n",
       "      <td>0</td>\n",
       "      <td>0</td>\n",
       "      <td>30</td>\n",
       "      <td>United-States</td>\n",
       "    </tr>\n",
       "  </tbody>\n",
       "</table>\n",
       "</div>"
      ],
      "text/plain": [
       "   age  workclass  fnlwgt     education  education-num      marital-status  \\\n",
       "0   25    Private  226802          11th              7       Never-married   \n",
       "1   38    Private   89814       HS-grad              9  Married-civ-spouse   \n",
       "2   28  Local-gov  336951    Assoc-acdm             12  Married-civ-spouse   \n",
       "3   44    Private  160323  Some-college             10  Married-civ-spouse   \n",
       "4   18        NaN  103497  Some-college             10       Never-married   \n",
       "\n",
       "          occupation relationship   race     sex  capital-gain  capital-loss  \\\n",
       "0  Machine-op-inspct    Own-child  Black    Male             0             0   \n",
       "1    Farming-fishing      Husband  White    Male             0             0   \n",
       "2    Protective-serv      Husband  White    Male             0             0   \n",
       "3  Machine-op-inspct      Husband  Black    Male          7688             0   \n",
       "4                NaN    Own-child  White  Female             0             0   \n",
       "\n",
       "   hours-per-week native-country  \n",
       "0              40  United-States  \n",
       "1              50  United-States  \n",
       "2              40  United-States  \n",
       "3              40  United-States  \n",
       "4              30  United-States  "
      ]
     },
     "execution_count": 15,
     "metadata": {},
     "output_type": "execute_result"
    }
   ],
   "source": [
    "X[1:5]"
   ]
  },
  {
   "cell_type": "code",
   "execution_count": 6,
   "id": "fbb9dbd1",
   "metadata": {},
   "outputs": [],
   "source": [
    "# import numpy as np\n",
    "\n",
    "# np.random.seed(42)\n",
    "# n_amostras = 10000\n",
    "\n",
    "# # Colunas numéricas\n",
    "# idades = np.random.randint(18, 70, size=n_amostras)\n",
    "# salarios = np.random.randint(1500, 15000, size=n_amostras)\n",
    "\n",
    "# # Colunas categóricas\n",
    "# generos = np.random.choice(['M', 'F'], size=n_amostras)\n",
    "# estados_civis = np.random.choice(['solteiro', 'casado', 'divorciado'], size=n_amostras)\n",
    "\n",
    "# # Gerando risco baseado em regras lógicas (não aleatório)\n",
    "# riscos = []\n",
    "# for i in range(n_amostras):\n",
    "#     idade = idades[i]\n",
    "#     salario = salarios[i]\n",
    "#     estado = estados_civis[i]\n",
    "    \n",
    "#     if salario < 4000:\n",
    "#         risco = 'alto'\n",
    "#     elif salario < 8000:\n",
    "#         risco = 'medio'\n",
    "#     else:\n",
    "#         risco = 'baixo'\n",
    "#     riscos.append(risco)\n",
    "\n",
    "# riscos = np.array(riscos)\n",
    "\n",
    "# # Combinar tudo\n",
    "# dados = np.column_stack((idades, estados_civis, salarios, generos, riscos))\n",
    "\n",
    "# # Separar features e target\n",
    "# X = dados[:, :-1]\n",
    "# y = dados[:, -1]\n",
    "\n",
    "# print(\"Exemplo de 5 amostras:\")\n",
    "# print(dados[:5])\n",
    "# print(\"\\nDistribuição de riscos:\", np.unique(y, return_counts=True))\n"
   ]
  },
  {
   "cell_type": "code",
   "execution_count": 7,
   "id": "d21e04ac",
   "metadata": {},
   "outputs": [
    {
     "data": {
      "text/plain": [
       "0        <=50K\n",
       "1        <=50K\n",
       "2         >50K\n",
       "3         >50K\n",
       "4        <=50K\n",
       "         ...  \n",
       "48837    <=50K\n",
       "48838     >50K\n",
       "48839    <=50K\n",
       "48840    <=50K\n",
       "48841     >50K\n",
       "Name: class, Length: 48842, dtype: category\n",
       "Categories (2, object): ['<=50K', '>50K']"
      ]
     },
     "execution_count": 7,
     "metadata": {},
     "output_type": "execute_result"
    }
   ],
   "source": [
    "y"
   ]
  },
  {
   "cell_type": "code",
   "execution_count": 8,
   "id": "7120f5e4",
   "metadata": {},
   "outputs": [
    {
     "data": {
      "text/plain": [
       "(       age     workclass  fnlwgt     education  education-num  \\\n",
       " 0       25       Private  226802          11th              7   \n",
       " 1       38       Private   89814       HS-grad              9   \n",
       " 2       28     Local-gov  336951    Assoc-acdm             12   \n",
       " 3       44       Private  160323  Some-college             10   \n",
       " 4       18           NaN  103497  Some-college             10   \n",
       " ...    ...           ...     ...           ...            ...   \n",
       " 48837   27       Private  257302    Assoc-acdm             12   \n",
       " 48838   40       Private  154374       HS-grad              9   \n",
       " 48839   58       Private  151910       HS-grad              9   \n",
       " 48840   22       Private  201490       HS-grad              9   \n",
       " 48841   52  Self-emp-inc  287927       HS-grad              9   \n",
       " \n",
       "            marital-status         occupation relationship   race     sex  \\\n",
       " 0           Never-married  Machine-op-inspct    Own-child  Black    Male   \n",
       " 1      Married-civ-spouse    Farming-fishing      Husband  White    Male   \n",
       " 2      Married-civ-spouse    Protective-serv      Husband  White    Male   \n",
       " 3      Married-civ-spouse  Machine-op-inspct      Husband  Black    Male   \n",
       " 4           Never-married                NaN    Own-child  White  Female   \n",
       " ...                   ...                ...          ...    ...     ...   \n",
       " 48837  Married-civ-spouse       Tech-support         Wife  White  Female   \n",
       " 48838  Married-civ-spouse  Machine-op-inspct      Husband  White    Male   \n",
       " 48839             Widowed       Adm-clerical    Unmarried  White  Female   \n",
       " 48840       Never-married       Adm-clerical    Own-child  White    Male   \n",
       " 48841  Married-civ-spouse    Exec-managerial         Wife  White  Female   \n",
       " \n",
       "        capital-gain  capital-loss  hours-per-week native-country  \n",
       " 0                 0             0              40  United-States  \n",
       " 1                 0             0              50  United-States  \n",
       " 2                 0             0              40  United-States  \n",
       " 3              7688             0              40  United-States  \n",
       " 4                 0             0              30  United-States  \n",
       " ...             ...           ...             ...            ...  \n",
       " 48837             0             0              38  United-States  \n",
       " 48838             0             0              40  United-States  \n",
       " 48839             0             0              40  United-States  \n",
       " 48840             0             0              20  United-States  \n",
       " 48841         15024             0              40  United-States  \n",
       " \n",
       " [48842 rows x 14 columns],\n",
       " 0        <=50K\n",
       " 1        <=50K\n",
       " 2         >50K\n",
       " 3         >50K\n",
       " 4        <=50K\n",
       "          ...  \n",
       " 48837    <=50K\n",
       " 48838     >50K\n",
       " 48839    <=50K\n",
       " 48840    <=50K\n",
       " 48841     >50K\n",
       " Name: class, Length: 48842, dtype: category\n",
       " Categories (2, object): ['<=50K', '>50K'])"
      ]
     },
     "execution_count": 8,
     "metadata": {},
     "output_type": "execute_result"
    }
   ],
   "source": [
    "X,y"
   ]
  },
  {
   "cell_type": "code",
   "execution_count": 9,
   "id": "9526fb3b",
   "metadata": {},
   "outputs": [
    {
     "name": "stdout",
     "output_type": "stream",
     "text": [
      "age -> <=50K\n",
      "workclass -> <=50K\n",
      "fnlwgt -> >50K\n",
      "education -> >50K\n",
      "education-num -> <=50K\n",
      "marital-status -> <=50K\n",
      "occupation -> <=50K\n",
      "relationship -> >50K\n",
      "race -> <=50K\n",
      "sex -> <=50K\n",
      "capital-gain -> >50K\n",
      "capital-loss -> <=50K\n",
      "hours-per-week -> <=50K\n",
      "native-country -> <=50K\n"
     ]
    }
   ],
   "source": [
    "X,y\n",
    "\n",
    "for x,y_result in zip(X,y):\n",
    "    print(x,'->',y_result)"
   ]
  },
  {
   "cell_type": "code",
   "execution_count": 10,
   "id": "336b280f",
   "metadata": {},
   "outputs": [],
   "source": [
    "class naiveBayes():\n",
    "    \n",
    "    def __init__(self):\n",
    "        self.mean = []\n",
    "        self.std = []\n",
    "        self.probs = []\n",
    "        self.probs_categoric = []\n",
    "        self.classes = []\n",
    "    \n",
    "    # Função para detectar colunas numéricas e categóricas\n",
    "    def separar_colunas(self,dados):\n",
    "        colunas_numericas = []\n",
    "        colunas_categoricas = []\n",
    "\n",
    "        for i in range(dados.shape[1]):\n",
    "            coluna = dados[:, i]\n",
    "            # Tenta converter para float — se não der, é categórica\n",
    "            try:\n",
    "                coluna.astype(float)\n",
    "                colunas_numericas.append(i)\n",
    "            except ValueError:\n",
    "                colunas_categoricas.append(i)\n",
    "        \n",
    "        return colunas_numericas, colunas_categoricas\n",
    "    \n",
    "    def fit_categoric(self, X, y):\n",
    "        _, categoricas = self.separar_colunas(X)\n",
    "        self.probs_categoric = []\n",
    "\n",
    "        for x in categoricas:\n",
    "            valores_possiveis = np.unique(X[:, x])\n",
    "            probs_atributo = []\n",
    "\n",
    "            for i, classe in enumerate(self.classes[0]):\n",
    "                dados_classe = X[y == classe, x]\n",
    "                vals, counts = np.unique(dados_classe, return_counts=True)\n",
    "                \n",
    "                prob_dict = dict(zip(vals, counts / self.classes[1][i]))\n",
    "\n",
    "                probs = [prob_dict.get(v, 0) for v in valores_possiveis]\n",
    "                probs_atributo.append(probs)\n",
    "\n",
    "            self.probs_categoric.append((x, valores_possiveis, probs_atributo))\n",
    "    \n",
    "    def fit(self,X,y):\n",
    "        self.classes = np.unique(y,return_counts=True)\n",
    "        # print('Classes encontradas:',self.classes)\n",
    "        for classe in self.classes[0]:\n",
    "            numericas,_ = self.separar_colunas(X)\n",
    "            \n",
    "            counts_data = X[y==classe]\n",
    "            counts_data_numerics = counts_data[:,numericas].astype(float)\n",
    "            \n",
    "            self.mean.append(np.mean(counts_data_numerics))\n",
    "            self.std.append(np.std(counts_data_numerics))\n",
    "            \n",
    "            self.probs.append(len(counts_data_numerics) / len(X))\n",
    "                \n",
    "        self.fit_categoric(X, y)\n",
    "        \n",
    "    def predict(self, X):\n",
    "        preds = []\n",
    "\n",
    "        # identificar tipos de colunas\n",
    "        numericas, categoricas = self.separar_colunas(X)\n",
    "\n",
    "        for amostra in X:\n",
    "            probs_classes = []\n",
    "\n",
    "            # percorre cada classe (ex: baixo, medio, alto)\n",
    "            for i, _ in enumerate(self.classes[0]):\n",
    "                # --- Parte 1: probabilidade base da classe (P(classe))\n",
    "                prob_total = self.probs[i]\n",
    "\n",
    "                # --- Parte 2: features numéricas (Gaussiana)\n",
    "                if numericas:\n",
    "                    x_num = amostra[numericas].astype(float)\n",
    "                    prob_gauss = np.prod(self.gauss(self.mean[i], self.std[i], x_num))\n",
    "                    prob_total *= prob_gauss\n",
    "\n",
    "                # --- Parte 3: features categóricas\n",
    "                for col_idx, valores, probs_por_classe in self.probs_categoric:\n",
    "                    valor = amostra[col_idx]\n",
    "                    if valor in valores:\n",
    "                        pos = np.where(valores == valor)[0][0]\n",
    "                        prob_total *= probs_por_classe[i][pos]\n",
    "                    else:\n",
    "                        prob_total *= 1e-6  # suavização: valor não visto\n",
    "\n",
    "                probs_classes.append(prob_total)\n",
    "\n",
    "            # normaliza probabilidades (para interpretar como confiança)\n",
    "            probs_classes = np.array(probs_classes)\n",
    "            probs_classes_norm = probs_classes / probs_classes.sum()\n",
    "\n",
    "            # classe com maior probabilidade\n",
    "            pred_classe = self.classes[0][np.argmax(probs_classes)]\n",
    "            preds.append((pred_classe, probs_classes_norm))\n",
    "\n",
    "        return preds\n",
    "    \n",
    "    def gauss(self,mean,std,x):\n",
    "        return (1 / (np.sqrt(2 * np.pi) * std)) * np.e ** (- (x - mean) ** 2 / (2 * std ** 2))"
   ]
  },
  {
   "cell_type": "code",
   "execution_count": 11,
   "id": "1543922d",
   "metadata": {},
   "outputs": [],
   "source": [
    "nB = naiveBayes()"
   ]
  },
  {
   "cell_type": "code",
   "execution_count": 12,
   "id": "1a9681f9",
   "metadata": {},
   "outputs": [
    {
     "name": "stdout",
     "output_type": "stream",
     "text": [
      "age -> <=50K\n",
      "workclass -> <=50K\n",
      "fnlwgt -> <=50K\n",
      "education -> <=50K\n",
      "education-num -> <=50K\n",
      "marital-status -> <=50K\n",
      "occupation -> <=50K\n",
      "relationship -> <=50K\n",
      "race -> <=50K\n",
      "sex -> <=50K\n",
      "capital-gain -> <=50K\n",
      "capital-loss -> <=50K\n",
      "hours-per-week -> <=50K\n",
      "native-country -> <=50K\n"
     ]
    }
   ],
   "source": [
    "X_train, X_test, y_train, y_test = train_test_split(X,y,test_size=0.2, random_state=42, shuffle=True)\n",
    "\n",
    "for x,y_result in zip(X_train,y_train):\n",
    "    print(x,'->',y_result)"
   ]
  },
  {
   "cell_type": "code",
   "execution_count": 13,
   "id": "5ee598ce",
   "metadata": {},
   "outputs": [
    {
     "ename": "InvalidIndexError",
     "evalue": "(slice(None, None, None), 0)",
     "output_type": "error",
     "traceback": [
      "\u001b[31m---------------------------------------------------------------------------\u001b[39m",
      "\u001b[31mKeyError\u001b[39m                                  Traceback (most recent call last)",
      "\u001b[36mFile \u001b[39m\u001b[32mc:\\Users\\JonasCGN\\Documents\\Programa_Curso\\Sistemas_Inteligentes\\ATIVIDADE_SI_NAIVEBAYES\\.venv\\Lib\\site-packages\\pandas\\core\\indexes\\base.py:3812\u001b[39m, in \u001b[36mIndex.get_loc\u001b[39m\u001b[34m(self, key)\u001b[39m\n\u001b[32m   3811\u001b[39m \u001b[38;5;28;01mtry\u001b[39;00m:\n\u001b[32m-> \u001b[39m\u001b[32m3812\u001b[39m     \u001b[38;5;28;01mreturn\u001b[39;00m \u001b[38;5;28;43mself\u001b[39;49m\u001b[43m.\u001b[49m\u001b[43m_engine\u001b[49m\u001b[43m.\u001b[49m\u001b[43mget_loc\u001b[49m\u001b[43m(\u001b[49m\u001b[43mcasted_key\u001b[49m\u001b[43m)\u001b[49m\n\u001b[32m   3813\u001b[39m \u001b[38;5;28;01mexcept\u001b[39;00m \u001b[38;5;167;01mKeyError\u001b[39;00m \u001b[38;5;28;01mas\u001b[39;00m err:\n",
      "\u001b[36mFile \u001b[39m\u001b[32mpandas/_libs/index.pyx:167\u001b[39m, in \u001b[36mpandas._libs.index.IndexEngine.get_loc\u001b[39m\u001b[34m()\u001b[39m\n",
      "\u001b[36mFile \u001b[39m\u001b[32mpandas/_libs/index.pyx:196\u001b[39m, in \u001b[36mpandas._libs.index.IndexEngine.get_loc\u001b[39m\u001b[34m()\u001b[39m\n",
      "\u001b[36mFile \u001b[39m\u001b[32mpandas/_libs/hashtable_class_helper.pxi:7088\u001b[39m, in \u001b[36mpandas._libs.hashtable.PyObjectHashTable.get_item\u001b[39m\u001b[34m()\u001b[39m\n",
      "\u001b[36mFile \u001b[39m\u001b[32mpandas/_libs/hashtable_class_helper.pxi:7096\u001b[39m, in \u001b[36mpandas._libs.hashtable.PyObjectHashTable.get_item\u001b[39m\u001b[34m()\u001b[39m\n",
      "\u001b[31mKeyError\u001b[39m: (slice(None, None, None), 0)",
      "\nDuring handling of the above exception, another exception occurred:\n",
      "\u001b[31mInvalidIndexError\u001b[39m                         Traceback (most recent call last)",
      "\u001b[36mCell\u001b[39m\u001b[36m \u001b[39m\u001b[32mIn[13]\u001b[39m\u001b[32m, line 1\u001b[39m\n\u001b[32m----> \u001b[39m\u001b[32m1\u001b[39m \u001b[43mnB\u001b[49m\u001b[43m.\u001b[49m\u001b[43mseparar_colunas\u001b[49m\u001b[43m(\u001b[49m\u001b[43mX_train\u001b[49m\u001b[43m)\u001b[49m\n",
      "\u001b[36mCell\u001b[39m\u001b[36m \u001b[39m\u001b[32mIn[10]\u001b[39m\u001b[32m, line 16\u001b[39m, in \u001b[36mnaiveBayes.separar_colunas\u001b[39m\u001b[34m(self, dados)\u001b[39m\n\u001b[32m     13\u001b[39m colunas_categoricas = []\n\u001b[32m     15\u001b[39m \u001b[38;5;28;01mfor\u001b[39;00m i \u001b[38;5;129;01min\u001b[39;00m \u001b[38;5;28mrange\u001b[39m(dados.shape[\u001b[32m1\u001b[39m]):\n\u001b[32m---> \u001b[39m\u001b[32m16\u001b[39m     coluna = \u001b[43mdados\u001b[49m\u001b[43m[\u001b[49m\u001b[43m:\u001b[49m\u001b[43m,\u001b[49m\u001b[43m \u001b[49m\u001b[43mi\u001b[49m\u001b[43m]\u001b[49m\n\u001b[32m     17\u001b[39m     \u001b[38;5;66;03m# Tenta converter para float — se não der, é categórica\u001b[39;00m\n\u001b[32m     18\u001b[39m     \u001b[38;5;28;01mtry\u001b[39;00m:\n",
      "\u001b[36mFile \u001b[39m\u001b[32mc:\\Users\\JonasCGN\\Documents\\Programa_Curso\\Sistemas_Inteligentes\\ATIVIDADE_SI_NAIVEBAYES\\.venv\\Lib\\site-packages\\pandas\\core\\frame.py:4113\u001b[39m, in \u001b[36mDataFrame.__getitem__\u001b[39m\u001b[34m(self, key)\u001b[39m\n\u001b[32m   4111\u001b[39m \u001b[38;5;28;01mif\u001b[39;00m \u001b[38;5;28mself\u001b[39m.columns.nlevels > \u001b[32m1\u001b[39m:\n\u001b[32m   4112\u001b[39m     \u001b[38;5;28;01mreturn\u001b[39;00m \u001b[38;5;28mself\u001b[39m._getitem_multilevel(key)\n\u001b[32m-> \u001b[39m\u001b[32m4113\u001b[39m indexer = \u001b[38;5;28;43mself\u001b[39;49m\u001b[43m.\u001b[49m\u001b[43mcolumns\u001b[49m\u001b[43m.\u001b[49m\u001b[43mget_loc\u001b[49m\u001b[43m(\u001b[49m\u001b[43mkey\u001b[49m\u001b[43m)\u001b[49m\n\u001b[32m   4114\u001b[39m \u001b[38;5;28;01mif\u001b[39;00m is_integer(indexer):\n\u001b[32m   4115\u001b[39m     indexer = [indexer]\n",
      "\u001b[36mFile \u001b[39m\u001b[32mc:\\Users\\JonasCGN\\Documents\\Programa_Curso\\Sistemas_Inteligentes\\ATIVIDADE_SI_NAIVEBAYES\\.venv\\Lib\\site-packages\\pandas\\core\\indexes\\base.py:3818\u001b[39m, in \u001b[36mIndex.get_loc\u001b[39m\u001b[34m(self, key)\u001b[39m\n\u001b[32m   3813\u001b[39m \u001b[38;5;28;01mexcept\u001b[39;00m \u001b[38;5;167;01mKeyError\u001b[39;00m \u001b[38;5;28;01mas\u001b[39;00m err:\n\u001b[32m   3814\u001b[39m     \u001b[38;5;28;01mif\u001b[39;00m \u001b[38;5;28misinstance\u001b[39m(casted_key, \u001b[38;5;28mslice\u001b[39m) \u001b[38;5;129;01mor\u001b[39;00m (\n\u001b[32m   3815\u001b[39m         \u001b[38;5;28misinstance\u001b[39m(casted_key, abc.Iterable)\n\u001b[32m   3816\u001b[39m         \u001b[38;5;129;01mand\u001b[39;00m \u001b[38;5;28many\u001b[39m(\u001b[38;5;28misinstance\u001b[39m(x, \u001b[38;5;28mslice\u001b[39m) \u001b[38;5;28;01mfor\u001b[39;00m x \u001b[38;5;129;01min\u001b[39;00m casted_key)\n\u001b[32m   3817\u001b[39m     ):\n\u001b[32m-> \u001b[39m\u001b[32m3818\u001b[39m         \u001b[38;5;28;01mraise\u001b[39;00m InvalidIndexError(key)\n\u001b[32m   3819\u001b[39m     \u001b[38;5;28;01mraise\u001b[39;00m \u001b[38;5;167;01mKeyError\u001b[39;00m(key) \u001b[38;5;28;01mfrom\u001b[39;00m\u001b[38;5;250m \u001b[39m\u001b[34;01merr\u001b[39;00m\n\u001b[32m   3820\u001b[39m \u001b[38;5;28;01mexcept\u001b[39;00m \u001b[38;5;167;01mTypeError\u001b[39;00m:\n\u001b[32m   3821\u001b[39m     \u001b[38;5;66;03m# If we have a listlike key, _check_indexing_error will raise\u001b[39;00m\n\u001b[32m   3822\u001b[39m     \u001b[38;5;66;03m#  InvalidIndexError. Otherwise we fall through and re-raise\u001b[39;00m\n\u001b[32m   3823\u001b[39m     \u001b[38;5;66;03m#  the TypeError.\u001b[39;00m\n",
      "\u001b[31mInvalidIndexError\u001b[39m: (slice(None, None, None), 0)"
     ]
    }
   ],
   "source": [
    "nB.separar_colunas(X_train)"
   ]
  },
  {
   "cell_type": "code",
   "execution_count": null,
   "id": "a792fbac",
   "metadata": {},
   "outputs": [],
   "source": [
    "nB.fit(X_train,y_train)"
   ]
  },
  {
   "cell_type": "code",
   "execution_count": null,
   "id": "e2831a80",
   "metadata": {},
   "outputs": [],
   "source": [
    "nB.probs_categoric"
   ]
  },
  {
   "cell_type": "code",
   "execution_count": null,
   "id": "3c7e79ee",
   "metadata": {},
   "outputs": [],
   "source": [
    "for atributo in nB.probs_categoric:\n",
    "    print(atributo)\n",
    "    # for item in atributo:\n",
    "    #     print(item)"
   ]
  },
  {
   "cell_type": "code",
   "execution_count": null,
   "id": "58b81313",
   "metadata": {},
   "outputs": [],
   "source": [
    "nB.mean, nB.std, nB.probs,nB.probs_categoric,nB.classes"
   ]
  },
  {
   "cell_type": "code",
   "execution_count": null,
   "id": "4309fb94",
   "metadata": {},
   "outputs": [],
   "source": [
    "nB.probs"
   ]
  },
  {
   "cell_type": "code",
   "execution_count": null,
   "id": "d485c021",
   "metadata": {},
   "outputs": [],
   "source": [
    "nB.probs_categoric"
   ]
  },
  {
   "cell_type": "code",
   "execution_count": null,
   "id": "6454d0cd",
   "metadata": {},
   "outputs": [],
   "source": [
    "for atributo, valores, probs_por_classe in nB.probs_categoric:\n",
    "    print(f\"Atributo coluna {atributo} com valores {valores}\")\n",
    "    for i, classe in enumerate(nB.classes[0]):\n",
    "        print(f\"  Classe '{classe}': Probabilidades {probs_por_classe[i]}\")\n",
    "        if sum(probs_por_classe[i]) != 1:\n",
    "            print(\"    (A soma das probabilidades não é 1!)\")\n",
    "        else:\n",
    "            print(\"    (A soma das probabilidades é 1!)\")"
   ]
  },
  {
   "cell_type": "code",
   "execution_count": null,
   "id": "e19c847a",
   "metadata": {},
   "outputs": [],
   "source": [
    "y_pred = nB.predict(X_test)"
   ]
  },
  {
   "cell_type": "code",
   "execution_count": null,
   "id": "0b28ace0",
   "metadata": {},
   "outputs": [],
   "source": [
    "y_pred"
   ]
  },
  {
   "cell_type": "code",
   "execution_count": null,
   "id": "77662bce",
   "metadata": {},
   "outputs": [],
   "source": [
    "y_pred = [pred[0] for pred in y_pred]"
   ]
  },
  {
   "cell_type": "code",
   "execution_count": null,
   "id": "028ea7dd",
   "metadata": {},
   "outputs": [],
   "source": [
    "accuracy_score(y_test, y_pred)"
   ]
  },
  {
   "cell_type": "code",
   "execution_count": null,
   "id": "d3231532",
   "metadata": {},
   "outputs": [],
   "source": [
    "confusion_matrix(y_test, y_pred)"
   ]
  }
 ],
 "metadata": {
  "kernelspec": {
   "display_name": ".venv",
   "language": "python",
   "name": "python3"
  },
  "language_info": {
   "codemirror_mode": {
    "name": "ipython",
    "version": 3
   },
   "file_extension": ".py",
   "mimetype": "text/x-python",
   "name": "python",
   "nbconvert_exporter": "python",
   "pygments_lexer": "ipython3",
   "version": "3.14.0"
  }
 },
 "nbformat": 4,
 "nbformat_minor": 5
}
