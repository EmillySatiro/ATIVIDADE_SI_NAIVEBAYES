{
 "cells": [
  {
   "cell_type": "code",
   "execution_count": 192,
   "id": "b6800e44",
   "metadata": {},
   "outputs": [],
   "source": [
    "import numpy as np \n",
    "import pandas as pd\n",
    "from sklearn.metrics import accuracy_score,  confusion_matrix\n",
    "from sklearn.datasets import fetch_openml, load_iris\n",
    "from  sklearn.model_selection  import train_test_split"
   ]
  },
  {
   "cell_type": "code",
   "execution_count": 193,
   "id": "002ea318",
   "metadata": {},
   "outputs": [],
   "source": [
    "# Data = fetch_openml(name='adult', version=2, as_frame=True)\n",
    "Data = load_iris()\n",
    "X = Data['data']\n",
    "y = Data['target']"
   ]
  },
  {
   "cell_type": "code",
   "execution_count": 194,
   "id": "193896ae",
   "metadata": {},
   "outputs": [
    {
     "data": {
      "text/plain": [
       "(150, 4)"
      ]
     },
     "execution_count": 194,
     "metadata": {},
     "output_type": "execute_result"
    }
   ],
   "source": [
    "X.shape "
   ]
  },
  {
   "cell_type": "code",
   "execution_count": 195,
   "id": "9796bc07",
   "metadata": {},
   "outputs": [
    {
     "data": {
      "text/plain": [
       "(150,)"
      ]
     },
     "execution_count": 195,
     "metadata": {},
     "output_type": "execute_result"
    }
   ],
   "source": [
    "y.shape"
   ]
  },
  {
   "cell_type": "code",
   "execution_count": null,
   "id": "db744783",
   "metadata": {},
   "outputs": [],
   "source": [
    "class NaiveBayes(): \n",
    "    def __init__(self):\n",
    "      self.mean = []\n",
    "      self.std = []\n",
    "      self.classes = []\n",
    "      self.prob_class =[]\n",
    "    \n",
    "    def fit (self, x,y): \n",
    "        self.classes = np.unique(y)\n",
    "        \n",
    "        for c in self.classes:\n",
    "            dados_class = x[y ==c]\n",
    "            self.mean.append(np.mean(dados_class))\n",
    "            self.std.append(np.std(dados_class))\n",
    "            self.prob_class.append(len(dados_class)/ len(x))\n",
    "    \n",
    "    def categoric(self):\n",
    "        pass\n",
    "    \n",
    "    def predict(self,X):\n",
    "        preds= []\n",
    "        for x in X:\n",
    "            pred = []\n",
    "            confiancas = []\n",
    "            \n",
    "            for i in self.classes: \n",
    "                pred.append(self.prob_class[i] * np.prod(self.gauss(self.mean[i], self.std[i],x)))\n",
    "            \n",
    "            for i in self.classes:\n",
    "                confiancas.append(pred[i] / sum(pred))\n",
    "                \n",
    "            pred = np.argmax(pred)\n",
    "            preds.append(pred)\n",
    "            \n",
    "        return preds\n",
    "        \n",
    "    def gauss(self,mean,std,x):\n",
    "        return 1/(np.sqrt(2*np.pi * std ** 2)) * (np.e **(-((x- mean)** 2/ (2* std **2 ))))\n",
    "    "
   ]
  },
  {
   "cell_type": "code",
   "execution_count": 197,
   "id": "36aaef44",
   "metadata": {},
   "outputs": [],
   "source": [
    "X_train, X_test, y_train,y_test = train_test_split(X,y,train_size=0.7,shuffle=True, random_state=42)"
   ]
  },
  {
   "cell_type": "code",
   "execution_count": 198,
   "id": "10c3e114",
   "metadata": {},
   "outputs": [
    {
     "data": {
      "text/plain": [
       "(105, 4)"
      ]
     },
     "execution_count": 198,
     "metadata": {},
     "output_type": "execute_result"
    }
   ],
   "source": [
    "X_train.shape"
   ]
  },
  {
   "cell_type": "code",
   "execution_count": 199,
   "id": "0acd5d5d",
   "metadata": {},
   "outputs": [],
   "source": [
    "nb= NaiveBayes()\n",
    "nb.fit(X_train,y_train)"
   ]
  },
  {
   "cell_type": "code",
   "execution_count": 200,
   "id": "5e257139",
   "metadata": {},
   "outputs": [
    {
     "data": {
      "text/plain": [
       "[(np.int64(1), np.float64(0.44732871661186624)),\n",
       " (np.int64(0), np.float64(0.4201936727931877)),\n",
       " (np.int64(2), np.float64(0.764962583720576)),\n",
       " (np.int64(1), np.float64(0.45957857296667126)),\n",
       " (np.int64(2), np.float64(0.4749302546623393)),\n",
       " (np.int64(0), np.float64(0.49163286705122283)),\n",
       " (np.int64(1), np.float64(0.47323571636119477)),\n",
       " (np.int64(2), np.float64(0.5680327721959328)),\n",
       " (np.int64(1), np.float64(0.45128804562674313)),\n",
       " (np.int64(1), np.float64(0.4657406866344042)),\n",
       " (np.int64(2), np.float64(0.5192501378952769)),\n",
       " (np.int64(0), np.float64(0.6163292263212813)),\n",
       " (np.int64(0), np.float64(0.5136588655698634)),\n",
       " (np.int64(0), np.float64(0.5904445214841972)),\n",
       " (np.int64(0), np.float64(0.49111154336149543)),\n",
       " (np.int64(2), np.float64(0.4545345128080216)),\n",
       " (np.int64(2), np.float64(0.5772450245672528)),\n",
       " (np.int64(1), np.float64(0.4608312763977321)),\n",
       " (np.int64(1), np.float64(0.46744639899138124)),\n",
       " (np.int64(2), np.float64(0.5387229584504964)),\n",
       " (np.int64(0), np.float64(0.57888695659587)),\n",
       " (np.int64(2), np.float64(0.44152619002089794)),\n",
       " (np.int64(0), np.float64(0.5159995602796454)),\n",
       " (np.int64(2), np.float64(0.5340427059673917)),\n",
       " (np.int64(2), np.float64(0.7833937074668396)),\n",
       " (np.int64(2), np.float64(0.5501589236335964)),\n",
       " (np.int64(2), np.float64(0.5529473850542485)),\n",
       " (np.int64(2), np.float64(0.6300088694603735)),\n",
       " (np.int64(0), np.float64(0.5970742219305145)),\n",
       " (np.int64(0), np.float64(0.579459051391663)),\n",
       " (np.int64(0), np.float64(0.6087077591101244)),\n",
       " (np.int64(1), np.float64(0.39963549411303795)),\n",
       " (np.int64(2), np.float64(0.45030059901147235)),\n",
       " (np.int64(0), np.float64(0.5529294057165751)),\n",
       " (np.int64(0), np.float64(0.630570675428323)),\n",
       " (np.int64(2), np.float64(0.44544557643953014)),\n",
       " (np.int64(2), np.float64(0.4378405171060115)),\n",
       " (np.int64(0), np.float64(0.5197509469475545)),\n",
       " (np.int64(0), np.float64(0.5374185378746972)),\n",
       " (np.int64(0), np.float64(0.47565340246174254)),\n",
       " (np.int64(1), np.float64(0.45262615007072404)),\n",
       " (np.int64(1), np.float64(0.45369002630730215)),\n",
       " (np.int64(2), np.float64(0.47864204063689797)),\n",
       " (np.int64(0), np.float64(0.46565176532630576)),\n",
       " (np.int64(0), np.float64(0.48444250891558205))]"
      ]
     },
     "execution_count": 200,
     "metadata": {},
     "output_type": "execute_result"
    }
   ],
   "source": [
    "y_pred= nb.predict(X_test)\n",
    "y_pred"
   ]
  },
  {
   "cell_type": "code",
   "execution_count": null,
   "id": "bd08462c",
   "metadata": {},
   "outputs": [],
   "source": [
    "y_pred= nb.predict(X_test)\n"
   ]
  },
  {
   "cell_type": "code",
   "execution_count": null,
   "id": "35ccd592",
   "metadata": {},
   "outputs": [
    {
     "ename": "ValueError",
     "evalue": "Classification metrics can't handle a mix of multiclass and continuous-multioutput targets",
     "output_type": "error",
     "traceback": [
      "\u001b[31m---------------------------------------------------------------------------\u001b[39m",
      "\u001b[31mValueError\u001b[39m                                Traceback (most recent call last)",
      "\u001b[36mCell\u001b[39m\u001b[36m \u001b[39m\u001b[32mIn[201]\u001b[39m\u001b[32m, line 1\u001b[39m\n\u001b[32m----> \u001b[39m\u001b[32m1\u001b[39m \u001b[43maccuracy_score\u001b[49m\u001b[43m(\u001b[49m\u001b[43my_test\u001b[49m\u001b[43m,\u001b[49m\u001b[43my_pred\u001b[49m\u001b[43m)\u001b[49m\n",
      "\u001b[36mFile \u001b[39m\u001b[32m~\\AppData\\Roaming\\Python\\Python312\\site-packages\\sklearn\\utils\\_param_validation.py:218\u001b[39m, in \u001b[36mvalidate_params.<locals>.decorator.<locals>.wrapper\u001b[39m\u001b[34m(*args, **kwargs)\u001b[39m\n\u001b[32m    212\u001b[39m \u001b[38;5;28;01mtry\u001b[39;00m:\n\u001b[32m    213\u001b[39m     \u001b[38;5;28;01mwith\u001b[39;00m config_context(\n\u001b[32m    214\u001b[39m         skip_parameter_validation=(\n\u001b[32m    215\u001b[39m             prefer_skip_nested_validation \u001b[38;5;129;01mor\u001b[39;00m global_skip_validation\n\u001b[32m    216\u001b[39m         )\n\u001b[32m    217\u001b[39m     ):\n\u001b[32m--> \u001b[39m\u001b[32m218\u001b[39m         \u001b[38;5;28;01mreturn\u001b[39;00m \u001b[43mfunc\u001b[49m\u001b[43m(\u001b[49m\u001b[43m*\u001b[49m\u001b[43margs\u001b[49m\u001b[43m,\u001b[49m\u001b[43m \u001b[49m\u001b[43m*\u001b[49m\u001b[43m*\u001b[49m\u001b[43mkwargs\u001b[49m\u001b[43m)\u001b[49m\n\u001b[32m    219\u001b[39m \u001b[38;5;28;01mexcept\u001b[39;00m InvalidParameterError \u001b[38;5;28;01mas\u001b[39;00m e:\n\u001b[32m    220\u001b[39m     \u001b[38;5;66;03m# When the function is just a wrapper around an estimator, we allow\u001b[39;00m\n\u001b[32m    221\u001b[39m     \u001b[38;5;66;03m# the function to delegate validation to the estimator, but we replace\u001b[39;00m\n\u001b[32m    222\u001b[39m     \u001b[38;5;66;03m# the name of the estimator by the name of the function in the error\u001b[39;00m\n\u001b[32m    223\u001b[39m     \u001b[38;5;66;03m# message to avoid confusion.\u001b[39;00m\n\u001b[32m    224\u001b[39m     msg = re.sub(\n\u001b[32m    225\u001b[39m         \u001b[33mr\u001b[39m\u001b[33m\"\u001b[39m\u001b[33mparameter of \u001b[39m\u001b[33m\\\u001b[39m\u001b[33mw+ must be\u001b[39m\u001b[33m\"\u001b[39m,\n\u001b[32m    226\u001b[39m         \u001b[33mf\u001b[39m\u001b[33m\"\u001b[39m\u001b[33mparameter of \u001b[39m\u001b[38;5;132;01m{\u001b[39;00mfunc.\u001b[34m__qualname__\u001b[39m\u001b[38;5;132;01m}\u001b[39;00m\u001b[33m must be\u001b[39m\u001b[33m\"\u001b[39m,\n\u001b[32m    227\u001b[39m         \u001b[38;5;28mstr\u001b[39m(e),\n\u001b[32m    228\u001b[39m     )\n",
      "\u001b[36mFile \u001b[39m\u001b[32m~\\AppData\\Roaming\\Python\\Python312\\site-packages\\sklearn\\metrics\\_classification.py:359\u001b[39m, in \u001b[36maccuracy_score\u001b[39m\u001b[34m(y_true, y_pred, normalize, sample_weight)\u001b[39m\n\u001b[32m    357\u001b[39m \u001b[38;5;66;03m# Compute accuracy for each possible representation\u001b[39;00m\n\u001b[32m    358\u001b[39m y_true, y_pred = attach_unique(y_true, y_pred)\n\u001b[32m--> \u001b[39m\u001b[32m359\u001b[39m y_type, y_true, y_pred = \u001b[43m_check_targets\u001b[49m\u001b[43m(\u001b[49m\u001b[43my_true\u001b[49m\u001b[43m,\u001b[49m\u001b[43m \u001b[49m\u001b[43my_pred\u001b[49m\u001b[43m)\u001b[49m\n\u001b[32m    360\u001b[39m check_consistent_length(y_true, y_pred, sample_weight)\n\u001b[32m    362\u001b[39m \u001b[38;5;28;01mif\u001b[39;00m y_type.startswith(\u001b[33m\"\u001b[39m\u001b[33mmultilabel\u001b[39m\u001b[33m\"\u001b[39m):\n",
      "\u001b[36mFile \u001b[39m\u001b[32m~\\AppData\\Roaming\\Python\\Python312\\site-packages\\sklearn\\metrics\\_classification.py:106\u001b[39m, in \u001b[36m_check_targets\u001b[39m\u001b[34m(y_true, y_pred)\u001b[39m\n\u001b[32m    103\u001b[39m     y_type = {\u001b[33m\"\u001b[39m\u001b[33mmulticlass\u001b[39m\u001b[33m\"\u001b[39m}\n\u001b[32m    105\u001b[39m \u001b[38;5;28;01mif\u001b[39;00m \u001b[38;5;28mlen\u001b[39m(y_type) > \u001b[32m1\u001b[39m:\n\u001b[32m--> \u001b[39m\u001b[32m106\u001b[39m     \u001b[38;5;28;01mraise\u001b[39;00m \u001b[38;5;167;01mValueError\u001b[39;00m(\n\u001b[32m    107\u001b[39m         \u001b[33m\"\u001b[39m\u001b[33mClassification metrics can\u001b[39m\u001b[33m'\u001b[39m\u001b[33mt handle a mix of \u001b[39m\u001b[38;5;132;01m{0}\u001b[39;00m\u001b[33m and \u001b[39m\u001b[38;5;132;01m{1}\u001b[39;00m\u001b[33m targets\u001b[39m\u001b[33m\"\u001b[39m.format(\n\u001b[32m    108\u001b[39m             type_true, type_pred\n\u001b[32m    109\u001b[39m         )\n\u001b[32m    110\u001b[39m     )\n\u001b[32m    112\u001b[39m \u001b[38;5;66;03m# We can't have more than one value on y_type => The set is no more needed\u001b[39;00m\n\u001b[32m    113\u001b[39m y_type = y_type.pop()\n",
      "\u001b[31mValueError\u001b[39m: Classification metrics can't handle a mix of multiclass and continuous-multioutput targets"
     ]
    }
   ],
   "source": [
    "accuracy_score(y_test,[y_pred[0] for y_pred in y_pred])"
   ]
  },
  {
   "cell_type": "code",
   "execution_count": null,
   "id": "3a712831",
   "metadata": {},
   "outputs": [
    {
     "data": {
      "text/plain": [
       "array([[18,  1,  0],\n",
       "       [ 0,  8,  5],\n",
       "       [ 0,  1, 12]])"
      ]
     },
     "execution_count": 162,
     "metadata": {},
     "output_type": "execute_result"
    }
   ],
   "source": [
    "confusion_matrix(y_test,y_pred)"
   ]
  }
 ],
 "metadata": {
  "kernelspec": {
   "display_name": "Python 3",
   "language": "python",
   "name": "python3"
  },
  "language_info": {
   "codemirror_mode": {
    "name": "ipython",
    "version": 3
   },
   "file_extension": ".py",
   "mimetype": "text/x-python",
   "name": "python",
   "nbconvert_exporter": "python",
   "pygments_lexer": "ipython3",
   "version": "3.12.2"
  }
 },
 "nbformat": 4,
 "nbformat_minor": 5
}
